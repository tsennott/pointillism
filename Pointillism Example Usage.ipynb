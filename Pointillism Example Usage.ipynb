{
 "cells": [
  {
   "cell_type": "markdown",
   "metadata": {},
   "source": [
    "# Pointilism usage examples"
   ]
  },
  {
   "cell_type": "markdown",
   "metadata": {},
   "source": [
    "### Explanation\n",
    "The module `pointillism` contains classes to build pointillized pictures with colors taken from a source image(s). The base class is `pointillize` and can load directories or single images, and includes the primary methods:\n",
    "* `plotRecPoints()` plots rectangular arrays of circles of fixed radius\n",
    "* `plotRandomPoints()` plots random circles of random radius\n",
    "* `plotRandomPointsComplexity()` plots random circles with radius based on complexity of source image in that area\n",
    "\n",
    "In addition, the subclass `pointillizeStack` contains methods for building a workflow of image manipulations and then saving gif animations of either the construction of the image or of the final result constructed repeatedly to produce a kind of fluid final picture. Currently only implemented to work on single images. Its subclass `pointillizePile` however is implemented to operate in serial on a large list of images and supports saving gifs in batches as well. \n",
    "\n",
    "In the future, support will be provided for loading movie files and saving out pointillized versions of them\n",
    "\n",
    "### Samples\n",
    "Some images and gifs I've produced can be found here: https://photos.app.goo.gl/SAQ1DMLrkVxoyjGB3"
   ]
  },
  {
   "cell_type": "markdown",
   "metadata": {},
   "source": [
    "## Import class definitions"
   ]
  },
  {
   "cell_type": "code",
   "execution_count": 116,
   "metadata": {
    "scrolled": false
   },
   "outputs": [],
   "source": [
    "from pointillism import pointillize, pointillizeStack, pointillizePile\n",
    "%run pointillism.py"
   ]
  },
  {
   "cell_type": "markdown",
   "metadata": {},
   "source": [
    "# Usage examples"
   ]
  },
  {
   "cell_type": "markdown",
   "metadata": {},
   "source": [
    "## 1) Read image, run routines to pointillize, and save result"
   ]
  },
  {
   "cell_type": "code",
   "execution_count": 129,
   "metadata": {
    "scrolled": false
   },
   "outputs": [],
   "source": [
    "# Create instance on directory or filename\n",
    "point = pointillize(location='images/IMG_0116.jpg', debug = True)\n",
    "\n",
    "# Crop\n",
    "point.crop_Y([1000,500], False)\n",
    "\n",
    "# Display original\n",
    "#point.display(original=True)"
   ]
  },
  {
   "cell_type": "code",
   "execution_count": null,
   "metadata": {
    "scrolled": false
   },
   "outputs": [
    {
     "name": "stdout",
     "output_type": "stream",
     "text": [
      "plotRandomPointsComplexity: "
     ]
    }
   ],
   "source": [
    "# Plot rectangular grid of overlapping circles to fill canvas\n",
    "#point.plotRecPoints(n=40, multiplier=1, fill=False)\n",
    "\n",
    "# Plot many random points with size proportional to area complexity\n",
    "point.plotRandomPointsComplexity(n=5e5, constant=0.025, power=1, alpha=int(0.1*255))  "
   ]
  },
  {
   "cell_type": "code",
   "execution_count": null,
   "metadata": {
    "scrolled": false
   },
   "outputs": [],
   "source": [
    "# Display and save\n",
    "point.display()\n",
    "point.save_out(location = 'images_out', suffix = 'basic test')"
   ]
  },
  {
   "cell_type": "markdown",
   "metadata": {},
   "source": [
    "## 2) Build image stacks using `pointillizeStack` and save as gif of intermediate images"
   ]
  },
  {
   "cell_type": "code",
   "execution_count": 5,
   "metadata": {
    "scrolled": false
   },
   "outputs": [
    {
     "name": "stdout",
     "output_type": "stream",
     "text": [
      "crop_Y: 1 done\n",
      "plotRecPoints: 1 done\n",
      "plotRandomPointsComplexity: 1 2 3 4 5 6 7 8 9 10 done\n"
     ]
    }
   ],
   "source": [
    "# Create instance\n",
    "point = pointillizeStack(location='images/IMG_0116.jpg', debug = True, border = 0)\n",
    "\n",
    "# Construct queue\n",
    "point.new_queue()\n",
    "\n",
    "# Add to queue\n",
    "point.add_to_queue(point.crop_Y,[[1000,500], False],1)\n",
    "point.add_to_queue(point.plotRecPoints,[40, 1, True],1)\n",
    "point.add_to_queue(point.plotRandomPointsComplexity,[2e3,0.01,1.3],10)\n",
    "\n",
    "# Build image stacks\n",
    "point.build_stacks(n=1, save_steps=True)"
   ]
  },
  {
   "cell_type": "code",
   "execution_count": 6,
   "metadata": {
    "collapsed": true,
    "scrolled": false
   },
   "outputs": [],
   "source": [
    "# Save\n",
    "point.save_gif('gifs/animated_stacking.gif', step_duration=0.5)"
   ]
  },
  {
   "cell_type": "code",
   "execution_count": 7,
   "metadata": {
    "scrolled": false
   },
   "outputs": [
    {
     "data": {
      "text/html": [
       "<img src=\"gifs/animated_stacking.gif\">"
      ],
      "text/plain": [
       "<IPython.core.display.HTML object>"
      ]
     },
     "execution_count": 7,
     "metadata": {},
     "output_type": "execute_result"
    }
   ],
   "source": [
    "# Display\n",
    "from IPython.display import HTML\n",
    "HTML('<img src=\"gifs/animated_stacking.gif\">')"
   ]
  },
  {
   "cell_type": "markdown",
   "metadata": {},
   "source": [
    "## 3) Build image stacks using `pointillizeStack` and save as gif of final images"
   ]
  },
  {
   "cell_type": "code",
   "execution_count": 8,
   "metadata": {
    "scrolled": true
   },
   "outputs": [
    {
     "name": "stdout",
     "output_type": "stream",
     "text": [
      "Building image:  1 2 3 4 5 6 7 8 9 10 done\n"
     ]
    }
   ],
   "source": [
    "# Construct queue\n",
    "point.new_queue()\n",
    "\n",
    "# Add to queue\n",
    "point.add_to_queue(point.crop_Y,[[1000,500], False],1)\n",
    "point.add_to_queue(point.plotRecPoints,[40, 1, True],1)\n",
    "point.add_to_queue(point.plotRandomPointsComplexity,[2e4,0.01,1.3],1)\n",
    "\n",
    "# Build image stacks\n",
    "point.build_stacks(n=10, save_steps=False)"
   ]
  },
  {
   "cell_type": "code",
   "execution_count": 9,
   "metadata": {
    "collapsed": true,
    "scrolled": false
   },
   "outputs": [],
   "source": [
    "# Save\n",
    "point.save_gif('gifs/animated_stacking_loop.gif', step_duration=0.1)"
   ]
  },
  {
   "cell_type": "code",
   "execution_count": 10,
   "metadata": {
    "scrolled": false
   },
   "outputs": [
    {
     "data": {
      "text/html": [
       "<img src=\"gifs/animated_stacking_loop.gif\">"
      ],
      "text/plain": [
       "<IPython.core.display.HTML object>"
      ]
     },
     "execution_count": 10,
     "metadata": {},
     "output_type": "execute_result"
    }
   ],
   "source": [
    "# Display\n",
    "HTML('<img src=\"gifs/animated_stacking_loop.gif\">')"
   ]
  },
  {
   "cell_type": "markdown",
   "metadata": {},
   "source": [
    "## 4) Build image stacks using `pointillizeStack` and save as gif of multiplied images"
   ]
  },
  {
   "cell_type": "code",
   "execution_count": 11,
   "metadata": {
    "collapsed": true,
    "scrolled": false
   },
   "outputs": [],
   "source": [
    "point = pointillizeStack(location='images/IMG_0116.jpg', border = 0, debug=True, queue=True)\n",
    "point.crop_Y([1000,500], resize=False)"
   ]
  },
  {
   "cell_type": "code",
   "execution_count": 12,
   "metadata": {
    "scrolled": false
   },
   "outputs": [
    {
     "name": "stdout",
     "output_type": "stream",
     "text": [
      "plotRecPoints: done...took 0.77 sec\n",
      "plotRandomPointsComplexity: done...took 51.63 sec\n"
     ]
    }
   ],
   "source": [
    "point.plotRecPoints(n=40, multiplier=1, fill=False)\n",
    "point.plotRandomPointsComplexity(n=5e4, constant=0.01, power=1.3)"
   ]
  },
  {
   "cell_type": "code",
   "execution_count": 13,
   "metadata": {
    "scrolled": false
   },
   "outputs": [
    {
     "name": "stdout",
     "output_type": "stream",
     "text": [
      "Building image:  1 2 3 4 5 6 7 8 9 10 11 12 13 14 15 16 17 done\n"
     ]
    }
   ],
   "source": [
    "multipliers = [5,4.5,4,3.5,3,2.6,2.3,2,1.75,1.5,1.25,1.1,1,1,1,1,1]\n",
    "point.build_multipliers(multipliers)"
   ]
  },
  {
   "cell_type": "code",
   "execution_count": 14,
   "metadata": {
    "collapsed": true,
    "scrolled": false
   },
   "outputs": [],
   "source": [
    "point.save_gif('gifs/pointqueue.gif',0.1)"
   ]
  },
  {
   "cell_type": "code",
   "execution_count": 15,
   "metadata": {
    "scrolled": false
   },
   "outputs": [
    {
     "data": {
      "text/html": [
       "<img src=\"gifs/pointqueue.gif\">"
      ],
      "text/plain": [
       "<IPython.core.display.HTML object>"
      ]
     },
     "execution_count": 15,
     "metadata": {},
     "output_type": "execute_result"
    }
   ],
   "source": [
    "HTML('<img src=\"gifs/pointqueue.gif\">')"
   ]
  },
  {
   "cell_type": "markdown",
   "metadata": {
    "collapsed": true
   },
   "source": [
    "## 5. Bulk image processing with `pointillizePile`"
   ]
  },
  {
   "cell_type": "code",
   "execution_count": 16,
   "metadata": {
    "collapsed": true,
    "scrolled": false
   },
   "outputs": [],
   "source": [
    "# Create instance on directory\n",
    "point = pointillizePile(location='images/', debug = True, border = 0)"
   ]
  },
  {
   "cell_type": "markdown",
   "metadata": {},
   "source": [
    "### Images"
   ]
  },
  {
   "cell_type": "code",
   "execution_count": 17,
   "metadata": {
    "scrolled": false
   },
   "outputs": [
    {
     "name": "stdout",
     "output_type": "stream",
     "text": [
      "Batch processing image: 1 2 3 4 done\n"
     ]
    }
   ],
   "source": [
    "# Crop and build queue\n",
    "point.new_queue()\n",
    "point.add_to_queue(point.crop_Y,[[960,540], False],1)\n",
    "point.add_to_queue(point.plotRecPoints,[40, 1, True],1)\n",
    "point.add_to_queue(point.plotRandomPointsComplexity,[2e4,0.01,1.3],1)\n",
    "\n",
    "# Run and save\n",
    "point.run_pile_images(location = 'images_out', suffix = 'no border')"
   ]
  },
  {
   "cell_type": "markdown",
   "metadata": {},
   "source": [
    "### Loop GIFs"
   ]
  },
  {
   "cell_type": "code",
   "execution_count": 18,
   "metadata": {
    "scrolled": false
   },
   "outputs": [
    {
     "name": "stdout",
     "output_type": "stream",
     "text": [
      "1 Building image:  1 2 3 4 5 6 7 8 9 10 done\n",
      "2 Building image:  1 2 3 4 5 6 7 8 9 10 done\n",
      "3 Building image:  1 2 3 4 5 6 7 8 9 10 done\n",
      "4 Building image:  1 2 3 4 5 6 7 8 9 10 done\n"
     ]
    }
   ],
   "source": [
    "# Crop and build queue\n",
    "point.new_queue()\n",
    "point.add_to_queue(point.crop_Y,[[1000,500], False],1)\n",
    "point.add_to_queue(point.plotRecPoints,[40, 1, True],1)\n",
    "point.add_to_queue(point.plotRandomPointsComplexity,[2e4,0.01,1.3],1)\n",
    "\n",
    "# Run and save (gifs) in loop mode\n",
    "point.run_pile_gifs(location = 'images_out/gifs', n=10, save_steps = False, step_duration = 0.1, suffix = 'loop')"
   ]
  },
  {
   "cell_type": "markdown",
   "metadata": {},
   "source": [
    "### Assembly gifs"
   ]
  },
  {
   "cell_type": "code",
   "execution_count": 19,
   "metadata": {
    "scrolled": false
   },
   "outputs": [
    {
     "name": "stdout",
     "output_type": "stream",
     "text": [
      "1 crop_Y: 1 done\n",
      "plotRecPoints: 1 done\n",
      "plotRandomPointsComplexity: 1 2 3 4 5 6 7 8 9 10 done\n",
      "2 crop_Y: 1 done\n",
      "plotRecPoints: 1 done\n",
      "plotRandomPointsComplexity: 1 2 3 4 5 6 7 8 9 10 done\n",
      "3 crop_Y: 1 done\n",
      "plotRecPoints: 1 done\n",
      "plotRandomPointsComplexity: 1 2 3 4 5 6 7 8 9 10 done\n",
      "4 crop_Y: 1 done\n",
      "plotRecPoints: 1 done\n",
      "plotRandomPointsComplexity: 1 2 3 4 5 6 7 8 9 10 done\n"
     ]
    }
   ],
   "source": [
    "# Crop and build queue\n",
    "point.new_queue()\n",
    "point.add_to_queue(point.crop_Y,[[1000,500], False],1)\n",
    "point.add_to_queue(point.plotRecPoints,[40, 1, True],1)\n",
    "point.add_to_queue(point.plotRandomPointsComplexity,[2e3,0.01,1.3],10)\n",
    "\n",
    "# Run and save (gifs) in assembly mode\n",
    "point.run_pile_gifs(location = 'images_out/gifs', n=1, save_steps = True, step_duration = 0.5, suffix = 'assembly')"
   ]
  },
  {
   "cell_type": "markdown",
   "metadata": {},
   "source": [
    "### Multiplier gifs"
   ]
  },
  {
   "cell_type": "code",
   "execution_count": 20,
   "metadata": {
    "collapsed": true,
    "scrolled": false
   },
   "outputs": [],
   "source": [
    "# Create instance on directory\n",
    "point = pointillizePile(location='images/', debug=True, border=0, queue=True)"
   ]
  },
  {
   "cell_type": "code",
   "execution_count": 21,
   "metadata": {
    "scrolled": false
   },
   "outputs": [
    {
     "name": "stdout",
     "output_type": "stream",
     "text": [
      "1 Building image:  1 2 3 4 5 6 7 8 9 10 11 12 13 14 15 16 17 done\n",
      "2 Building image:  1 2 3 4 5 6 7 8 9 10 11 12 13 14 15 16 17 done\n",
      "3 Building image:  1 2 3 4 5 6 7 8 9 10 11 12 13 14 15 16 17 done\n",
      "4 Building image:  1 2 3 4 5 6 7 8 9 10 11 12 13 14 15 16 17 done\n"
     ]
    }
   ],
   "source": [
    "# Crop and build queue\n",
    "point.new_queue()\n",
    "point.add_to_queue(point.crop_Y,[[1000,500], False],1)\n",
    "point.add_to_queue(point.plotRecPoints,[40, 1, True],1)\n",
    "point.add_to_queue(point.plotRandomPointsComplexity,[2e4,0.01,1.3],1)\n",
    "\n",
    "# Run and save (gifs) in multiplier mode\n",
    "multipliers = [5,4.5,4,3.5,3,2.6,2.3,2,1.75,1.5,1.25,1.1,1,1,1,1,1]\n",
    "point.run_pile_multipliers(location = 'images_out/gifs', multipliers = multipliers,\n",
    "                           step_duration = 0.1, suffix = 'muliplier')"
   ]
  },
  {
   "cell_type": "markdown",
   "metadata": {},
   "source": [
    "# Documentation"
   ]
  },
  {
   "cell_type": "code",
   "execution_count": 5,
   "metadata": {
    "scrolled": true
   },
   "outputs": [
    {
     "name": "stdout",
     "output_type": "stream",
     "text": [
      "Help on module pointillism:\n",
      "\n",
      "NAME\n",
      "    pointillism - This module contains classes that help create pointillized images.\n",
      "\n",
      "CLASSES\n",
      "    builtins.object\n",
      "        pointillize\n",
      "            pointillizeStack\n",
      "                pointillizePile\n",
      "    \n",
      "    class pointillize(builtins.object)\n",
      "     |  Base class for pointillzation project\n",
      "     |  \n",
      "     |  Methods defined here:\n",
      "     |  \n",
      "     |  __init__(self, *args, **kwargs)\n",
      "     |      Initiialize with image or directory\n",
      "     |  \n",
      "     |  crop_Y(self, aspect, resize)\n",
      "     |      Crops and resizes in the height dimension to match aspect ratio\n",
      "     |  \n",
      "     |  display(self, **kwargs)\n",
      "     |      Displays browser-size version of outputs, or original images\n",
      "     |      if original=True\n",
      "     |  \n",
      "     |  plotRandomPointsComplexity(self, n, constant, power)\n",
      "     |      plots random points over image, where constant is\n",
      "     |      the portion of the width for the max size of the bubble,\n",
      "     |      and power pushes the distribution towards smaller bubbles\n",
      "     |  \n",
      "     |  plotRecPoints(self, n, multiplier, fill)\n",
      "     |      Plots symmetrical array of points over an image array,\n",
      "     |      where n is the number of points across the horizontal,\n",
      "     |      and multiplier is the ratio of the radius to the step\n",
      "     |      and if fill is True, fills frame, otherwise leaves border\n",
      "     |  \n",
      "     |  print_attributes(self)\n",
      "     |      Prints non-hidden object parameters\n",
      "     |  \n",
      "     |  save_out(self, location, **kwargs)\n",
      "     |      Saves files to location\n",
      "     |  \n",
      "     |  ----------------------------------------------------------------------\n",
      "     |  Data descriptors defined here:\n",
      "     |  \n",
      "     |  __dict__\n",
      "     |      dictionary for instance variables (if defined)\n",
      "     |  \n",
      "     |  __weakref__\n",
      "     |      list of weak references to the object (if defined)\n",
      "    \n",
      "    class pointillizePile(pointillizeStack)\n",
      "     |  Subclass of pointillizeStack for operating serially on images\n",
      "     |  \n",
      "     |  Method resolution order:\n",
      "     |      pointillizePile\n",
      "     |      pointillizeStack\n",
      "     |      pointillize\n",
      "     |      builtins.object\n",
      "     |  \n",
      "     |  Methods defined here:\n",
      "     |  \n",
      "     |  __init__(self, *args, **kwargs)\n",
      "     |      Initiialize with image or directory\n",
      "     |  \n",
      "     |  display(self, **kwargs)\n",
      "     |      Displays browser-size version of outputs, or original images\n",
      "     |      if original=True\n",
      "     |  \n",
      "     |  run_pile_gifs(self, location, n, save_steps, step_duration, **kwargs)\n",
      "     |  \n",
      "     |  run_pile_images(self, location, **kwargs)\n",
      "     |      Process and save files to location\n",
      "     |  \n",
      "     |  run_pile_multipliers(self, location, multipliers, step_duration, **kwargs)\n",
      "     |  \n",
      "     |  ----------------------------------------------------------------------\n",
      "     |  Methods inherited from pointillizeStack:\n",
      "     |  \n",
      "     |  add_to_queue(self, method, args, n)\n",
      "     |      Adds a new method to the queue, to be run with args, n times\n",
      "     |  \n",
      "     |  build_multipliers(self, set)\n",
      "     |      Plots the point queue repeatedly with multipliers from list set\n",
      "     |  \n",
      "     |  build_stacks(self, n, save_steps)\n",
      "     |      Makes an image stack by running the pipeline n times,\n",
      "     |      saving intermediate steps if save_steps is true\n",
      "     |  \n",
      "     |  new_queue(self)\n",
      "     |      Builds a new set of lists for the queue\n",
      "     |  \n",
      "     |  print_queue(self)\n",
      "     |      Prints current status of the queue\n",
      "     |  \n",
      "     |  run_queue(self, **kwargs)\n",
      "     |      Runs queue, primarily for build_stacks()\n",
      "     |  \n",
      "     |  save_gif(self, location, step_duration, **kwargs)\n",
      "     |      Save a gif of the image stack with step_duration\n",
      "     |  \n",
      "     |  ----------------------------------------------------------------------\n",
      "     |  Methods inherited from pointillize:\n",
      "     |  \n",
      "     |  crop_Y(self, aspect, resize)\n",
      "     |      Crops and resizes in the height dimension to match aspect ratio\n",
      "     |  \n",
      "     |  plotRandomPointsComplexity(self, n, constant, power)\n",
      "     |      plots random points over image, where constant is\n",
      "     |      the portion of the width for the max size of the bubble,\n",
      "     |      and power pushes the distribution towards smaller bubbles\n",
      "     |  \n",
      "     |  plotRecPoints(self, n, multiplier, fill)\n",
      "     |      Plots symmetrical array of points over an image array,\n",
      "     |      where n is the number of points across the horizontal,\n",
      "     |      and multiplier is the ratio of the radius to the step\n",
      "     |      and if fill is True, fills frame, otherwise leaves border\n",
      "     |  \n",
      "     |  print_attributes(self)\n",
      "     |      Prints non-hidden object parameters\n",
      "     |  \n",
      "     |  save_out(self, location, **kwargs)\n",
      "     |      Saves files to location\n",
      "     |  \n",
      "     |  ----------------------------------------------------------------------\n",
      "     |  Data descriptors inherited from pointillize:\n",
      "     |  \n",
      "     |  __dict__\n",
      "     |      dictionary for instance variables (if defined)\n",
      "     |  \n",
      "     |  __weakref__\n",
      "     |      list of weak references to the object (if defined)\n",
      "    \n",
      "    class pointillizeStack(pointillize)\n",
      "     |  Subclass of pointillize for making stacks of images.\n",
      "     |  Only supports single images currently\n",
      "     |  \n",
      "     |  Method resolution order:\n",
      "     |      pointillizeStack\n",
      "     |      pointillize\n",
      "     |      builtins.object\n",
      "     |  \n",
      "     |  Methods defined here:\n",
      "     |  \n",
      "     |  __init__(self, *args, **kwargs)\n",
      "     |      Initiialize with image or directory\n",
      "     |  \n",
      "     |  add_to_queue(self, method, args, n)\n",
      "     |      Adds a new method to the queue, to be run with args, n times\n",
      "     |  \n",
      "     |  build_multipliers(self, set)\n",
      "     |      Plots the point queue repeatedly with multipliers from list set\n",
      "     |  \n",
      "     |  build_stacks(self, n, save_steps)\n",
      "     |      Makes an image stack by running the pipeline n times,\n",
      "     |      saving intermediate steps if save_steps is true\n",
      "     |  \n",
      "     |  new_queue(self)\n",
      "     |      Builds a new set of lists for the queue\n",
      "     |  \n",
      "     |  print_queue(self)\n",
      "     |      Prints current status of the queue\n",
      "     |  \n",
      "     |  run_queue(self, **kwargs)\n",
      "     |      Runs queue, primarily for build_stacks()\n",
      "     |  \n",
      "     |  save_gif(self, location, step_duration, **kwargs)\n",
      "     |      Save a gif of the image stack with step_duration\n",
      "     |  \n",
      "     |  ----------------------------------------------------------------------\n",
      "     |  Methods inherited from pointillize:\n",
      "     |  \n",
      "     |  crop_Y(self, aspect, resize)\n",
      "     |      Crops and resizes in the height dimension to match aspect ratio\n",
      "     |  \n",
      "     |  display(self, **kwargs)\n",
      "     |      Displays browser-size version of outputs, or original images\n",
      "     |      if original=True\n",
      "     |  \n",
      "     |  plotRandomPointsComplexity(self, n, constant, power)\n",
      "     |      plots random points over image, where constant is\n",
      "     |      the portion of the width for the max size of the bubble,\n",
      "     |      and power pushes the distribution towards smaller bubbles\n",
      "     |  \n",
      "     |  plotRecPoints(self, n, multiplier, fill)\n",
      "     |      Plots symmetrical array of points over an image array,\n",
      "     |      where n is the number of points across the horizontal,\n",
      "     |      and multiplier is the ratio of the radius to the step\n",
      "     |      and if fill is True, fills frame, otherwise leaves border\n",
      "     |  \n",
      "     |  print_attributes(self)\n",
      "     |      Prints non-hidden object parameters\n",
      "     |  \n",
      "     |  save_out(self, location, **kwargs)\n",
      "     |      Saves files to location\n",
      "     |  \n",
      "     |  ----------------------------------------------------------------------\n",
      "     |  Data descriptors inherited from pointillize:\n",
      "     |  \n",
      "     |  __dict__\n",
      "     |      dictionary for instance variables (if defined)\n",
      "     |  \n",
      "     |  __weakref__\n",
      "     |      list of weak references to the object (if defined)\n",
      "\n",
      "FUNCTIONS\n",
      "    random(...) method of random.Random instance\n",
      "        random() -> x in the interval [0, 1).\n",
      "\n",
      "FILE\n",
      "    /Users/timothysennott/Documents/GitHub/etc_projects/Pointilism/pointillism.py\n",
      "\n",
      "\n"
     ]
    }
   ],
   "source": [
    "# Help on module\n",
    "import pointillism\n",
    "help(pointillism)"
   ]
  },
  {
   "cell_type": "code",
   "execution_count": null,
   "metadata": {
    "collapsed": true,
    "scrolled": false
   },
   "outputs": [],
   "source": []
  }
 ],
 "metadata": {
  "kernelspec": {
   "display_name": "Python 3",
   "language": "python",
   "name": "python3"
  },
  "language_info": {
   "codemirror_mode": {
    "name": "ipython",
    "version": 3
   },
   "file_extension": ".py",
   "mimetype": "text/x-python",
   "name": "python",
   "nbconvert_exporter": "python",
   "pygments_lexer": "ipython3",
   "version": "3.6.3"
  }
 },
 "nbformat": 4,
 "nbformat_minor": 1
}
